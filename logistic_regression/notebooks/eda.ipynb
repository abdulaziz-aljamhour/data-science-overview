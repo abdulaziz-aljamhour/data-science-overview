{
 "cells": [
  {
   "cell_type": "code",
   "execution_count": 2,
   "metadata": {},
   "outputs": [],
   "source": [
    "import kaggle\n",
    "import os\n",
    "import chardet\n",
    "\n",
    "import pandas as pd\n",
    "\n",
    "from dotenv import load_dotenv\n",
    "from typing import Tuple, Annotated\n",
    "\n",
    "from loguru import logger\n",
    "\n",
    "load_dotenv()\n",
    "os.chdir('..')\n",
    "\n",
    "KAGGLE_USERNAME = os.getenv('KAGGLE_USERNAME')\n",
    "PROJECT_ROOT = os.getenv('PROJECT_ROOT')\n",
    "\n",
    "pd.options.plotting.backend = 'plotly'"
   ]
  },
  {
   "cell_type": "code",
   "execution_count": 3,
   "metadata": {},
   "outputs": [
    {
     "name": "stdout",
     "output_type": "stream",
     "text": [
      "Downloading sms-spam-collection-dataset.zip to /home/azdt/code_zone/data_science/data-science-overview/logistic_regression/data\n"
     ]
    },
    {
     "name": "stderr",
     "output_type": "stream",
     "text": [
      "100%|██████████| 211k/211k [00:00<00:00, 350kB/s]"
     ]
    },
    {
     "name": "stdout",
     "output_type": "stream",
     "text": [
      "\n"
     ]
    },
    {
     "name": "stderr",
     "output_type": "stream",
     "text": [
      "\n"
     ]
    }
   ],
   "source": [
    "# download spam data set\n",
    "dataset_slug = \"uciml/sms-spam-collection-dataset\"\n",
    "DATA_PATH = os.path.join(PROJECT_ROOT, 'data')\n",
    "\n",
    "kaggle.api.dataset_download_files(\n",
    "    dataset_slug,\n",
    "    DATA_PATH,\n",
    "    unzip=True,\n",
    "    quiet=False,\n",
    "    )"
   ]
  },
  {
   "cell_type": "markdown",
   "metadata": {},
   "source": [
    "# EDA and writing initial functions"
   ]
  },
  {
   "cell_type": "markdown",
   "metadata": {},
   "source": [
    "## Loading in data"
   ]
  },
  {
   "cell_type": "code",
   "execution_count": 4,
   "metadata": {},
   "outputs": [
    {
     "name": "stderr",
     "output_type": "stream",
     "text": [
      "\u001b[32m2024-03-26 23:15:11.234\u001b[0m | \u001b[1mINFO    \u001b[0m | \u001b[36m__main__\u001b[0m:\u001b[36mload_data\u001b[0m:\u001b[36m13\u001b[0m - \u001b[1mLoading in spam dataset.\u001b[0m\n",
      "\u001b[32m2024-03-26 23:15:11.597\u001b[0m | \u001b[1mINFO    \u001b[0m | \u001b[36m__main__\u001b[0m:\u001b[36mload_data\u001b[0m:\u001b[36m15\u001b[0m - \u001b[1mData loaded successfully\u001b[0m\n"
     ]
    }
   ],
   "source": [
    "path_spam: str = os.path.join(DATA_PATH, 'spam.csv')\n",
    "\n",
    "def get_file_encoding(path: str) -> Annotated[str, 'file_encoding']:\n",
    "    try:\n",
    "        with open(path, 'rb') as bin_data:\n",
    "            result = chardet.detect(bin_data.read(100_000))\n",
    "    except Exception as e:\n",
    "        logger.info(\n",
    "            f'An error has occurred while trying to detect file encoding: {e}.'\n",
    "            )\n",
    "    return result['encoding']\n",
    "\n",
    "def load_data(path: str) -> Annotated[pd.DataFrame, 'df']:\n",
    "    try:\n",
    "        logger.info('Loading in spam dataset.')\n",
    "        df: pd.DataFrame = pd.read_csv(path, encoding=get_file_encoding(path)) \\\n",
    "            .iloc[:, [0, 1]]\n",
    "        logger.info('Data loaded successfully')\n",
    "        return df\n",
    "    except Exception as e:\n",
    "        logger.info(f'An error has occurred in `load_data`: {e}.')\n",
    "\n",
    "df = load_data(path_spam)\n",
    "\n",
    "def create_mapper(df: pd.DataFrame, values: list[str]) -> Annotated[\n",
    "    dict[str, str], 'mapper']:\n",
    "    keys = df.columns\n",
    "    values: list[str] = ['label', 'message']\n",
    "    mapper = {k:v for k, v in zip(keys, values)}\n",
    "    return mapper\n",
    "\n",
    "def rename_columns(df: pd.DataFrame, mapper: dict[str, str]=None) -> Annotated[\n",
    "    pd.DataFrame, 'df_renamed']:\n",
    "    if mapper == None:\n",
    "        raise Exception('mapping dict is None')\n",
    "    else:\n",
    "        df_renamed = df.rename(mapper, axis=1)\n",
    "        return df_renamed\n",
    "    \n",
    "mapper = create_mapper(df, 'label message'.split())\n",
    "df = rename_columns(df, mapper)"
   ]
  },
  {
   "cell_type": "markdown",
   "metadata": {},
   "source": [
    "# EDA"
   ]
  },
  {
   "cell_type": "code",
   "execution_count": 13,
   "metadata": {},
   "outputs": [
    {
     "name": "stdout",
     "output_type": "stream",
     "text": [
      "class count\n"
     ]
    },
    {
     "data": {
      "text/plain": [
       "label\n",
       "ham     4825\n",
       "spam     747\n",
       "Name: count, dtype: int64"
      ]
     },
     "metadata": {},
     "output_type": "display_data"
    },
    {
     "name": "stdout",
     "output_type": "stream",
     "text": [
      "class count normalized\n"
     ]
    },
    {
     "data": {
      "text/plain": [
       "label\n",
       "ham     86.59\n",
       "spam    13.41\n",
       "Name: count, dtype: float64"
      ]
     },
     "metadata": {},
     "output_type": "display_data"
    }
   ],
   "source": [
    "print('class count')\n",
    "display(df.label.value_counts())\n",
    "print('class count normalized')\n",
    "display(df.label.value_counts().div(len(df)).mul(100).round(2))"
   ]
  },
  {
   "cell_type": "markdown",
   "metadata": {},
   "source": [
    "Unbalanced classes, have to consider that while developing the model"
   ]
  },
  {
   "cell_type": "code",
   "execution_count": 29,
   "metadata": {},
   "outputs": [
    {
     "data": {
      "text/html": [
       "<div>\n",
       "<style scoped>\n",
       "    .dataframe tbody tr th:only-of-type {\n",
       "        vertical-align: middle;\n",
       "    }\n",
       "\n",
       "    .dataframe tbody tr th {\n",
       "        vertical-align: top;\n",
       "    }\n",
       "\n",
       "    .dataframe thead th {\n",
       "        text-align: right;\n",
       "    }\n",
       "</style>\n",
       "<table border=\"1\" class=\"dataframe\">\n",
       "  <thead>\n",
       "    <tr style=\"text-align: right;\">\n",
       "      <th></th>\n",
       "      <th>label</th>\n",
       "      <th>message</th>\n",
       "    </tr>\n",
       "  </thead>\n",
       "  <tbody>\n",
       "    <tr>\n",
       "      <th>2861</th>\n",
       "      <td>spam</td>\n",
       "      <td>Adult 18 Content Your video will be with you s...</td>\n",
       "    </tr>\n",
       "    <tr>\n",
       "      <th>822</th>\n",
       "      <td>spam</td>\n",
       "      <td>SMSSERVICES. for yourinclusive text credits, p...</td>\n",
       "    </tr>\n",
       "    <tr>\n",
       "      <th>814</th>\n",
       "      <td>spam</td>\n",
       "      <td>U were outbid by simonwatson5120 on the Shinco...</td>\n",
       "    </tr>\n",
       "    <tr>\n",
       "      <th>5466</th>\n",
       "      <td>spam</td>\n",
       "      <td>http//tms. widelive.com/index. wml?id=820554ad...</td>\n",
       "    </tr>\n",
       "    <tr>\n",
       "      <th>4901</th>\n",
       "      <td>spam</td>\n",
       "      <td>* FREE* POLYPHONIC RINGTONE Text SUPER to 8713...</td>\n",
       "    </tr>\n",
       "  </tbody>\n",
       "</table>\n",
       "</div>"
      ],
      "text/plain": [
       "     label                                            message\n",
       "2861  spam  Adult 18 Content Your video will be with you s...\n",
       "822   spam  SMSSERVICES. for yourinclusive text credits, p...\n",
       "814   spam  U were outbid by simonwatson5120 on the Shinco...\n",
       "5466  spam  http//tms. widelive.com/index. wml?id=820554ad...\n",
       "4901  spam  * FREE* POLYPHONIC RINGTONE Text SUPER to 8713..."
      ]
     },
     "metadata": {},
     "output_type": "display_data"
    },
    {
     "data": {
      "text/html": [
       "<div>\n",
       "<style scoped>\n",
       "    .dataframe tbody tr th:only-of-type {\n",
       "        vertical-align: middle;\n",
       "    }\n",
       "\n",
       "    .dataframe tbody tr th {\n",
       "        vertical-align: top;\n",
       "    }\n",
       "\n",
       "    .dataframe thead th {\n",
       "        text-align: right;\n",
       "    }\n",
       "</style>\n",
       "<table border=\"1\" class=\"dataframe\">\n",
       "  <thead>\n",
       "    <tr style=\"text-align: right;\">\n",
       "      <th></th>\n",
       "      <th>label</th>\n",
       "      <th>message</th>\n",
       "    </tr>\n",
       "  </thead>\n",
       "  <tbody>\n",
       "    <tr>\n",
       "      <th>431</th>\n",
       "      <td>ham</td>\n",
       "      <td>Does she usually take fifteen fucking minutes ...</td>\n",
       "    </tr>\n",
       "    <tr>\n",
       "      <th>4131</th>\n",
       "      <td>ham</td>\n",
       "      <td>Hi baby ive just got back from work and i was ...</td>\n",
       "    </tr>\n",
       "    <tr>\n",
       "      <th>2281</th>\n",
       "      <td>ham</td>\n",
       "      <td>I hav almost reached. Call, i m unable to conn...</td>\n",
       "    </tr>\n",
       "    <tr>\n",
       "      <th>4945</th>\n",
       "      <td>ham</td>\n",
       "      <td>I'm already back home so no probably not</td>\n",
       "    </tr>\n",
       "    <tr>\n",
       "      <th>2577</th>\n",
       "      <td>ham</td>\n",
       "      <td>Hey whats up? U sleeping all morning?</td>\n",
       "    </tr>\n",
       "  </tbody>\n",
       "</table>\n",
       "</div>"
      ],
      "text/plain": [
       "     label                                            message\n",
       "431    ham  Does she usually take fifteen fucking minutes ...\n",
       "4131   ham  Hi baby ive just got back from work and i was ...\n",
       "2281   ham  I hav almost reached. Call, i m unable to conn...\n",
       "4945   ham           I'm already back home so no probably not\n",
       "2577   ham              Hey whats up? U sleeping all morning?"
      ]
     },
     "metadata": {},
     "output_type": "display_data"
    }
   ],
   "source": [
    "def sample_class(df: pd.DataFrame, class_label: str='spam', n: int=5) -> \\\n",
    "    Annotated[pd.DataFrame, 'df_sample']:\n",
    "    mask_class: pd.Series = df.label == class_label\n",
    "    df_sample: pd.DataFrame = df.loc[mask_class, :].sample(n)\n",
    "    return df_sample\n",
    "\n",
    "display(sample_class(df, ))\n",
    "display(sample_class(df, 'ham'))"
   ]
  },
  {
   "cell_type": "markdown",
   "metadata": {},
   "source": [
    "# Preprocessing"
   ]
  },
  {
   "cell_type": "markdown",
   "metadata": {},
   "source": [
    "# Model development\n",
    "Since this is a classification model will use logistic regression as the first algorithm alongside a dummy classifier as a baseline."
   ]
  },
  {
   "cell_type": "markdown",
   "metadata": {},
   "source": [
    "## Dummy classifier"
   ]
  },
  {
   "cell_type": "code",
   "execution_count": null,
   "metadata": {},
   "outputs": [],
   "source": [
    "from sklearn.dummy  import DummyClassifier\n",
    "from sklearn.base   import ClassifierMixin\n",
    "# search for best dummy classifier\n",
    "def make_dummy_cls() -> ClassifierMixin:\n",
    "    '''\n",
    "    This function returns the higest scoring classifier amongest the dummy classifier strategies which are:\n",
    "        * most_frequent\n",
    "        * prior\n",
    "        * stratified\n",
    "        * uniform\n",
    "        * constant\n",
    "    '''\n",
    "    strategies = 'most_frequent prior stratified uniform constant'.split()\n",
    "    for strategy in strategies:\n",
    "        \n",
    "\n"
   ]
  }
 ],
 "metadata": {
  "kernelspec": {
   "display_name": ".venv",
   "language": "python",
   "name": "python3"
  },
  "language_info": {
   "codemirror_mode": {
    "name": "ipython",
    "version": 3
   },
   "file_extension": ".py",
   "mimetype": "text/x-python",
   "name": "python",
   "nbconvert_exporter": "python",
   "pygments_lexer": "ipython3",
   "version": "3.10.12"
  }
 },
 "nbformat": 4,
 "nbformat_minor": 2
}
